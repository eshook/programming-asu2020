{
 "cells": [
  {
   "cell_type": "markdown",
   "metadata": {},
   "source": [
    "# Welcome to the Topic Book: If Statements\n",
    "\n",
    "\n",
    "### Utilize this notebook to learn about if statements or refresh on them! You should have completed the conditionals, functions, and for loops books before starting this book!\n",
    "\n",
    "`if` statements help you apply conditionals in different situations. They are helpful when iterating through lists, applying functions, and general times you need to filter data! Three ways you can use if statements are `if`, `else`, and `elif`. Think of them as buckets you want your data to fall in and the if statements divert to a specific bucket. "
   ]
  },
  {
   "cell_type": "markdown",
   "metadata": {},
   "source": [
    "You do not need to write an `else` or `elif`(else if) after every `if` statement. You can just write an `if` statement standing alone.\n",
    "\n",
    "When writing an if statement, the sequence should go: if statement, conditional, then end with a colon. It should look like this:\n",
    "\n",
    "`if x < y :`<br>\n",
    "`print x` \n",
    "\n",
    "Here is a few examples of `if` statements standing alone"
   ]
  },
  {
   "cell_type": "code",
   "execution_count": 2,
   "metadata": {},
   "outputs": [
    {
     "name": "stdout",
     "output_type": "stream",
     "text": [
      "6\n"
     ]
    }
   ],
   "source": [
    "# Print x if greater than y\n",
    "\n",
    "x = 6 # Set variables\n",
    "y = 5\n",
    "\n",
    "if x > y: # if statment ending in colon\n",
    "    print(x) # what happens when if x is greater than y"
   ]
  },
  {
   "cell_type": "code",
   "execution_count": 3,
   "metadata": {},
   "outputs": [],
   "source": [
    "# Lets flip the conditional\n",
    "\n",
    "x = 6 # Set variables\n",
    "y = 5\n",
    "\n",
    "if x < y: # if statment ending in colon\n",
    "    print(x) # what happens when if x is less than y"
   ]
  },
  {
   "cell_type": "markdown",
   "metadata": {},
   "source": [
    "Even though there was no output, it still ran. The if statement was not satisified so the print statement was not reached.\n",
    "\n",
    "Next lets do the same, but with `else` statements."
   ]
  },
  {
   "cell_type": "code",
   "execution_count": 4,
   "metadata": {},
   "outputs": [
    {
     "name": "stdout",
     "output_type": "stream",
     "text": [
      "Yes\n"
     ]
    }
   ],
   "source": [
    "# Print Yes if x is greater, else print No\n",
    "\n",
    "x = 19 # Set variables\n",
    "y = 9\n",
    "\n",
    "if x > y: #Set our if statement\n",
    "    print(\"Yes\")\n",
    "\n",
    "else: # No conditional needed, it is an else!\n",
    "    print(\"No\")"
   ]
  },
  {
   "cell_type": "code",
   "execution_count": 5,
   "metadata": {},
   "outputs": [
    {
     "name": "stdout",
     "output_type": "stream",
     "text": [
      "No\n"
     ]
    }
   ],
   "source": [
    "# Print Yes if x is greater, else print No\n",
    "\n",
    "x = 19 # Set variables\n",
    "y = 9\n",
    "\n",
    "if x < y: #Set our if statement, flip the conditional\n",
    "    print(\"Yes\")\n",
    "\n",
    "else: # No conditional needed, it is an else!\n",
    "    print(\"No\")"
   ]
  },
  {
   "cell_type": "markdown",
   "metadata": {},
   "source": [
    "Notice that when the if statement is not met, it is essentially skipped. The `else` statement does not need a conditional as it is run if the `if` statement is not satisfied. Next let's see how the `elif` interacts with the `if` and `else`."
   ]
  },
  {
   "cell_type": "code",
   "execution_count": 6,
   "metadata": {},
   "outputs": [
    {
     "name": "stdout",
     "output_type": "stream",
     "text": [
      "Option 2\n"
     ]
    }
   ],
   "source": [
    "# Set up if, elif, else statements\n",
    "\n",
    "x = 19 # Set Variables\n",
    "y = 9\n",
    "\n",
    "if x < y: # Initial if statement\n",
    "    print(\"Option 1\")\n",
    "\n",
    "elif x > y: # Elif, only gets here if the first statement isn't satisfied\n",
    "    print(\"Option 2\")\n",
    "    \n",
    "else: # Finally our else \n",
    "    print(\"Option 3\")"
   ]
  },
  {
   "cell_type": "code",
   "execution_count": 7,
   "metadata": {},
   "outputs": [
    {
     "name": "stdout",
     "output_type": "stream",
     "text": [
      "Option 3\n"
     ]
    }
   ],
   "source": [
    "# Set up if, elif, else statements\n",
    "\n",
    "x = 19 # Set Variables\n",
    "y = 9\n",
    "\n",
    "if x < y: # Initial if statement\n",
    "    print(\"Option 1\")\n",
    "\n",
    "elif x == y: # Elif, only gets here if the first statement isn't satisfied\n",
    "    print(\"Option 2\")\n",
    "    \n",
    "else: # Finally our else \n",
    "    print(\"Option 3\")"
   ]
  },
  {
   "cell_type": "code",
   "execution_count": 9,
   "metadata": {},
   "outputs": [
    {
     "name": "stdout",
     "output_type": "stream",
     "text": [
      "Option 3\n"
     ]
    }
   ],
   "source": [
    "# Set up if, elif, else statements\n",
    "\n",
    "x = 19 # Set Variables\n",
    "y = 9\n",
    "\n",
    "if x < y: # Initial if statement\n",
    "    print(\"Option 1\")\n",
    "\n",
    "elif x == y: # Elif, only gets here if the first statement isn't satisfied\n",
    "    print(\"Option 2\")\n",
    "    \n",
    "elif x != y: # You can add in multiple elifs! \n",
    "    print(\"New Option!\")\n",
    "    \n",
    "else: # finally, else\n",
    "    print(\"Wow!\")"
   ]
  },
  {
   "cell_type": "markdown",
   "metadata": {},
   "source": [
    "You can also iterate and print!"
   ]
  },
  {
   "cell_type": "code",
   "execution_count": 10,
   "metadata": {},
   "outputs": [
    {
     "name": "stdout",
     "output_type": "stream",
     "text": [
      "4\n",
      "5\n",
      "6\n",
      "7\n",
      "8\n"
     ]
    }
   ],
   "source": [
    "List1 = [1, 2, 3, 4, 5, 6, 7, 8]\n",
    "\n",
    "for x in List1:\n",
    "    if x >= 4:\n",
    "        print(x)"
   ]
  },
  {
   "cell_type": "markdown",
   "metadata": {},
   "source": [
    "### Your turn!\n",
    "\n",
    "Now let's fix the errors in these examples"
   ]
  },
  {
   "cell_type": "code",
   "execution_count": null,
   "metadata": {},
   "outputs": [],
   "source": [
    "# Print \"It worked\"! if x is equal to y\n",
    "\n",
    "x = 19\n",
    "y = 19\n",
    "\n",
    "if x > y:\n",
    "    print(It Worked!)"
   ]
  },
  {
   "cell_type": "code",
   "execution_count": null,
   "metadata": {},
   "outputs": [],
   "source": [
    "# This cell should print the number if less than 3 and print \"nope\" if greater than 3\n",
    "\n",
    "List = [1, 2, 3, 4, 5]\n",
    "\n",
    "for x in list:\n",
    "    if =< 3:\n",
    "        print(y)\n",
    "    elif > 3:\n",
    "        print(\"Nope\")\n",
    "\n"
   ]
  },
  {
   "cell_type": "code",
   "execution_count": null,
   "metadata": {},
   "outputs": [],
   "source": [
    "# This cell should print strings longer than 4 characters from the list\n",
    "\n",
    "\n",
    "# set our list\n",
    "StringList = [\"Hello\", \"My\", \"Name\", \"Is\", \"John\", \"I\", \"Come\", \"From\", \"A\", \"New\", \"World\"]\n",
    "\n",
    "\n",
    "# iterate through the list\n",
    "for str on StringList:\n",
    "    if len(str) != 4: # test our list for greater than 4\n",
    "        print(StringList) # print the values"
   ]
  },
  {
   "cell_type": "markdown",
   "metadata": {},
   "source": [
    "### More Work!\n",
    "\n",
    "Read the comment in the cell and write the code to execute"
   ]
  },
  {
   "cell_type": "code",
   "execution_count": null,
   "metadata": {},
   "outputs": [],
   "source": [
    "# Write a list of numbers from 1-10 and iterate through them, only printing the odd numbers.\n",
    "\n"
   ]
  },
  {
   "cell_type": "code",
   "execution_count": null,
   "metadata": {},
   "outputs": [],
   "source": [
    "# Write a function that checks strings that are input and prints their length\n",
    "\n"
   ]
  },
  {
   "cell_type": "code",
   "execution_count": null,
   "metadata": {},
   "outputs": [],
   "source": [
    "# Create a function that multiplies the input by 10 and a different function that multiples by 5. Then \n",
    "# create a list of numbers from 11-20 and iterate through those numbers and only run the first function on numbers\n",
    "# that are even, and then the second function on only odd numbers\n",
    "\n"
   ]
  }
 ],
 "metadata": {
  "kernelspec": {
   "display_name": "Python 3",
   "language": "python",
   "name": "python3"
  },
  "language_info": {
   "codemirror_mode": {
    "name": "ipython",
    "version": 3
   },
   "file_extension": ".py",
   "mimetype": "text/x-python",
   "name": "python",
   "nbconvert_exporter": "python",
   "pygments_lexer": "ipython3",
   "version": "3.7.0"
  }
 },
 "nbformat": 4,
 "nbformat_minor": 2
}
