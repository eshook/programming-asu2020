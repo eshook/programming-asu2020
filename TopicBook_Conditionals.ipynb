{
 "cells": [
  {
   "cell_type": "markdown",
   "metadata": {},
   "source": [
    "# Welcome to the Topic Book: Conditionals\n",
    "\n",
    "### Utilize this notebook to learn about conditionals or refresh on them!\n",
    "\n",
    "\n",
    "Conditionals use operators that look like math operators to compare items to each other. You can compare strings, floats, integers, and even boolean! If you run a conditional without a print statement or output, it will be evaluated and output a `True` or `False` (boolean logic)"
   ]
  },
  {
   "cell_type": "markdown",
   "metadata": {},
   "source": [
    "There are many operators to know, and although they might look like math operators, they are not! There might even be one or two you do not recognize! Let's go over them.\n",
    "\n",
    "`==` equal <br> \n",
    "`<`  less than <br>\n",
    "`>`  greater than <br>\n",
    "`<=` less than or equal to <br>\n",
    "`>=` greater than or equal to <br>\n",
    "`!=` not equal <br>\n",
    "\n",
    "Make sense?"
   ]
  },
  {
   "cell_type": "code",
   "execution_count": null,
   "metadata": {},
   "outputs": [],
   "source": [
    "# Let's test some out! Run these cells and check the out put\n",
    "\n",
    "5 == 6"
   ]
  },
  {
   "cell_type": "code",
   "execution_count": null,
   "metadata": {},
   "outputs": [],
   "source": [
    "# Run this cell\n",
    "\n",
    "5 != 6"
   ]
  },
  {
   "cell_type": "code",
   "execution_count": null,
   "metadata": {},
   "outputs": [],
   "source": [
    "# Run this cell\n",
    "\n",
    "5 <= 6"
   ]
  },
  {
   "cell_type": "markdown",
   "metadata": {},
   "source": [
    "#### Pretty simple right? Well you can also make it more complicated!"
   ]
  },
  {
   "cell_type": "code",
   "execution_count": null,
   "metadata": {},
   "outputs": [],
   "source": [
    "# Run this cell after predicting if it is True or False\n",
    "\n",
    "5 * 7 < 9 * 7"
   ]
  },
  {
   "cell_type": "code",
   "execution_count": null,
   "metadata": {},
   "outputs": [],
   "source": [
    "# Run this cell after predicting if it is True or False\n",
    "\n",
    "6 + 8 * 6 + 8 == 62"
   ]
  },
  {
   "cell_type": "code",
   "execution_count": null,
   "metadata": {},
   "outputs": [],
   "source": [
    "# Run this cell after predicting if it is True or False\n",
    "\n",
    "8 / 2 * 4 + 6 != 3 * 3 - 2"
   ]
  },
  {
   "cell_type": "markdown",
   "metadata": {},
   "source": [
    "#### Hopefully you can get the hang of conditionals quickly, they are important to know so we can use them in If statements, functions, and for loops!"
   ]
  },
  {
   "cell_type": "code",
   "execution_count": 15,
   "metadata": {},
   "outputs": [
    {
     "data": {
      "text/plain": [
       "False"
      ]
     },
     "execution_count": 15,
     "metadata": {},
     "output_type": "execute_result"
    }
   ],
   "source": [
    "# Alter the conditional operator so that it becomes True\n",
    "\n",
    "7 / 2 >= 10 / 2"
   ]
  },
  {
   "cell_type": "code",
   "execution_count": 16,
   "metadata": {},
   "outputs": [
    {
     "data": {
      "text/plain": [
       "False"
      ]
     },
     "execution_count": 16,
     "metadata": {},
     "output_type": "execute_result"
    }
   ],
   "source": [
    "# Alter the conditional operator so that it becomes True\n",
    "\n",
    "1 + 2 + 3 + 4 + 5 != 5 + 5 + 5 "
   ]
  },
  {
   "cell_type": "code",
   "execution_count": 18,
   "metadata": {},
   "outputs": [
    {
     "data": {
      "text/plain": [
       "False"
      ]
     },
     "execution_count": 18,
     "metadata": {},
     "output_type": "execute_result"
    }
   ],
   "source": [
    "# Alter the conditional operator(s) so that it becomes True\n",
    "\n",
    "8 * 9 * 10 <= 7 * 8 * 9 and 72 >= 8 * 9"
   ]
  },
  {
   "cell_type": "markdown",
   "metadata": {},
   "source": [
    "#### Quick Twist!\n",
    "\n",
    "You can also include `and` into your conditionals for an extra layer of evaluation!"
   ]
  },
  {
   "cell_type": "code",
   "execution_count": 19,
   "metadata": {},
   "outputs": [
    {
     "data": {
      "text/plain": [
       "False"
      ]
     },
     "execution_count": 19,
     "metadata": {},
     "output_type": "execute_result"
    }
   ],
   "source": [
    "# Make this statement true!\n",
    "\n",
    "1 > 0 and 2 > 3"
   ]
  },
  {
   "cell_type": "code",
   "execution_count": 20,
   "metadata": {},
   "outputs": [
    {
     "data": {
      "text/plain": [
       "True"
      ]
     },
     "execution_count": 20,
     "metadata": {},
     "output_type": "execute_result"
    }
   ],
   "source": [
    "# Make this statement false!\n",
    "\n",
    "8 * 9 / 4 == 18 and 4 * 8 / 4 == 8"
   ]
  },
  {
   "cell_type": "code",
   "execution_count": 21,
   "metadata": {},
   "outputs": [
    {
     "data": {
      "text/plain": [
       "False"
      ]
     },
     "execution_count": 21,
     "metadata": {},
     "output_type": "execute_result"
    }
   ],
   "source": [
    "# Make this statement true!\n",
    "\n",
    "x = 3\n",
    "y = 6\n",
    "\n",
    "y / x != x * y and x * x / y == y * y / x"
   ]
  },
  {
   "cell_type": "markdown",
   "metadata": {},
   "source": [
    "### Got the hang of it? Move on to the 'If Statement' topic book for more advanced conditionals!"
   ]
  }
 ],
 "metadata": {
  "kernelspec": {
   "display_name": "Python 3",
   "language": "python",
   "name": "python3"
  },
  "language_info": {
   "codemirror_mode": {
    "name": "ipython",
    "version": 3
   },
   "file_extension": ".py",
   "mimetype": "text/x-python",
   "name": "python",
   "nbconvert_exporter": "python",
   "pygments_lexer": "ipython3",
   "version": "3.7.0"
  }
 },
 "nbformat": 4,
 "nbformat_minor": 2
}
